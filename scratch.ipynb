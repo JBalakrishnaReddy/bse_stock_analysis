{
 "cells": [
  {
   "cell_type": "code",
   "execution_count": 28,
   "metadata": {},
   "outputs": [],
   "source": [
    "from bs4 import BeautifulSoup\n",
    "import pandas as pd\n",
    "import requests\n",
    "import json \n",
    "from pprint import pprint"
   ]
  },
  {
   "cell_type": "code",
   "execution_count": 53,
   "metadata": {},
   "outputs": [],
   "source": [
    "headers = {'User-Agent': 'Mozilla/5.0 (Macintosh; Intel Mac OS X 10_10_1) AppleWebKit/537.36 (KHTML, like Gecko) Chrome/39.0.2171.95 Safari/537.36'}\n",
    "\n",
    "Mozilla/5.0 (Macintosh; Intel Mac OS X 10_15_7) AppleWebKit/537.36 (KHTML, like Gecko) Chrome/127.0.0.0 Safari/537.36\n",
    "\n",
    "data = requests.get(\"https://www.bseindia.com/markets/marketinfo/BhavCopy.aspx\", headers=headers)"
   ]
  },
  {
   "cell_type": "code",
   "execution_count": null,
   "metadata": {},
   "outputs": [],
   "source": [
    "pprint(data.text)"
   ]
  },
  {
   "cell_type": "code",
   "execution_count": 75,
   "metadata": {},
   "outputs": [
    {
     "data": {
      "text/plain": [
       "dict_keys(['url_results_calendar', 'Bhav_copy', 'bhav_copy_page_url', 'company_corporate_announcements_link', 'all_corporate_announcements_link'])"
      ]
     },
     "execution_count": 75,
     "metadata": {},
     "output_type": "execute_result"
    }
   ],
   "source": [
    "with open(\"links.json\", \"r\") as json_data:\n",
    "    temp = json.load(json_data)\n",
    "    \n",
    "temp.keys()"
   ]
  },
  {
   "cell_type": "code",
   "execution_count": 26,
   "metadata": {},
   "outputs": [
    {
     "data": {
      "text/plain": [
       "'ContentPlaceHolder1_btnHyEqudiff'"
      ]
     },
     "execution_count": 26,
     "metadata": {},
     "output_type": "execute_result"
    }
   ],
   "source": [
    "temp['bhav_copy']['html_id']"
   ]
  },
  {
   "cell_type": "code",
   "execution_count": null,
   "metadata": {},
   "outputs": [],
   "source": [
    "soup"
   ]
  },
  {
   "cell_type": "code",
   "execution_count": 55,
   "metadata": {},
   "outputs": [],
   "source": [
    "soup = BeautifulSoup(data.text, parser='lxml')"
   ]
  },
  {
   "cell_type": "code",
   "execution_count": null,
   "metadata": {},
   "outputs": [],
   "source": [
    "links = soup.find_all('li')"
   ]
  },
  {
   "cell_type": "code",
   "execution_count": 68,
   "metadata": {},
   "outputs": [
    {
     "data": {
      "text/plain": [
       "<li id=\"ContentPlaceHolder1_liEqudiff\">\n",
       "<a href=\"https://www.bseindia.com/download/BhavCopy/Equity/BhavCopy_BSE_CM_0_0_0_20240807_F_0000.CSV\" id=\"ContentPlaceHolder1_btnHyEqudiff\" name=\"HyEqudiff\" role=\"HyperLink\" target=\"_self\">Equity (UDiFF) - 07/08/2024</a>\n",
       "<span id=\"ContentPlaceHolder1_lblEqudiff\">736.33 KB</span>\n",
       "</li>"
      ]
     },
     "execution_count": 68,
     "metadata": {},
     "output_type": "execute_result"
    }
   ],
   "source": [
    "links[0]"
   ]
  },
  {
   "cell_type": "code",
   "execution_count": 74,
   "metadata": {},
   "outputs": [
    {
     "name": "stdout",
     "output_type": "stream",
     "text": [
      "<li id=\"ContentPlaceHolder1_liEqudiff\">\n",
      "<a href=\"https://www.bseindia.com/download/BhavCopy/Equity/BhavCopy_BSE_CM_0_0_0_20240807_F_0000.CSV\" id=\"ContentPlaceHolder1_btnHyEqudiff\" name=\"HyEqudiff\" role=\"HyperLink\" target=\"_self\">Equity (UDiFF) - 07/08/2024</a>\n",
      "<span id=\"ContentPlaceHolder1_lblEqudiff\">736.33 KB</span>\n",
      "</li>\n",
      "<li id=\"ContentPlaceHolder1_liZipTO\">\n",
      "<a href=\"https://www.bseindia.com/download/BhavCopy/Equity/EQ_ISINCODE_070824_T0.CSV\" id=\"ContentPlaceHolder1_btnhylZipTO\" name=\"HyTOEquity\" role=\"HyperLink\" target=\"_self\">Equity T+0 with ISIN - 07/08/2024</a>\n",
      "<span id=\"ContentPlaceHolder1_IdlblEquityTofileSize\">0.15 KB</span>\n",
      "</li>\n",
      "<li id=\"ContentPlaceHolder1_liEquityTONew\">\n",
      "<a href=\"https://www.bseindia.com/download/BhavCopy/Equity/BSE_EQ_BHAVCOPY_07082024_T0.ZIP\" id=\"ContentPlaceHolder1_btnHyEquityTONew\" name=\"HyEquityTONEw\" role=\"HyperLink\" target=\"_self\">Equity T+0 (Standardized Format) - 07/08/2024</a>\n",
      "<span id=\"ContentPlaceHolder1_lblEquityTONew\">0.35 KB</span>\n",
      "</li>\n",
      "<li id=\"ContentPlaceHolder1_liEqDeri\">\n",
      "<a href=\"https://www.bseindia.com/download/Bhavcopy/Derivative/MS_20240807-01.csv\" id=\"ContentPlaceHolder1_btnhylEqDeri\" name=\"hylEqDeri\" role=\"HyperLink\" target=\"_self\">Equity Derivatives Market Summary - 07/08/2024</a>\n",
      "<span id=\"ContentPlaceHolder1_lblEqDeri\">51.67 KB</span>\n",
      "</li>\n",
      "<li id=\"ContentPlaceHolder1_liDeriudiff\">\n",
      "<a href=\"https://www.bseindia.com/download/Bhavcopy/Derivative/BhavCopy_BSE_FO_0_0_0_20240807_F_0000.CSV\" id=\"ContentPlaceHolder1_btnHylDeriudiff\" name=\"HyDeriudiff\" role=\"HyperLink\" target=\"_self\">Equity Derivatives (UDiFF) -07/08/2024</a>\n",
      "<span id=\"ContentPlaceHolder1_lblDeriudiff\">64.81 KB</span>\n",
      "</li>\n",
      "<li id=\"ContentPlaceHolder1_liCurrDeri\">\n",
      "<a href=\"https://www.bseindia.com/bsedata/CIML_bhavcopy/BFX_MS2_20240807.csv\" id=\"ContentPlaceHolder1_btnhylCurrDeri\" name=\"hylCurrDeri\" role=\"HyperLink\" target=\"_self\">Currency Derivatives /IRD Market Summary - 07/08/2024</a>\n",
      "<span id=\"ContentPlaceHolder1_lblCurrDeri\">51.67 KB</span>\n",
      "</li>\n",
      "<li id=\"ContentPlaceHolder1_liCurrudiff\">\n",
      "<a href=\"https://www.bseindia.com/bsedata/CIML_bhavcopy/BhavCopy_BSE_CD_0_0_0_20240807_F_0000.CSV\" id=\"ContentPlaceHolder1_btnhylCurrudiff\" name=\"HyCurrudiff\" role=\"HyperLink\" target=\"_self\">Currency Derivatives (UDiFF) -07/08/2024</a>\n",
      "<span id=\"ContentPlaceHolder1_lblCurrudiff\">0.30 KB</span>\n",
      "</li>\n",
      "<li id=\"ContentPlaceHolder1_liBhav\">\n",
      "<a href=\"https://www.bseindia.com/download/Bhavcopy/Debt/DEBTBHAVCOPY07082024.zip\" id=\"ContentPlaceHolder1_btnHylBhav\" name=\"HylBhav\" role=\"HyperLink\" target=\"_self\">Debt - 07/08/2024</a>\n",
      "<span id=\"ContentPlaceHolder1_lblDebt\">0.00 KB</span>\n",
      "</li>\n",
      "<li id=\"ContentPlaceHolder1_liSLB\">\n",
      "<a href=\"https://www.bseindia.com/download/Bhavcopy/SLB/SQ070824_CSV.ZIP\" id=\"ContentPlaceHolder1_btnHylSLB\" name=\"HylSLB\" role=\"HyperLink\" target=\"_self\">SLB - 07/08/2024</a>\n",
      "<span id=\"ContentPlaceHolder1_lblSLB\">0.39 KB</span>\n",
      "</li>\n",
      "<li id=\"ContentPlaceHolder1_liSLBNew\">\n",
      "<a class=\"tablebluelink\" href=\"https://www.bseindia.com/bsedata/SLBNEWBhavCopy/BSESLB_BhavCopy_20240807.csv\" id=\"ContentPlaceHolder1_btnHylSLBNew\" name=\"HylSLBNew\" role=\"HyperLink\" target=\"_self\">SLB NEW - 07/08/2024</a>\n",
      "<span id=\"ContentPlaceHolder1_lblSLBNew\"></span>\n",
      "</li>\n",
      "<li id=\"ContentPlaceHolder1_liClean\">\n",
      "<a href=\"https://www.bseindia.com/download/Bhavcopy/DebtClean/DB020124_C_CSV_CSV.zip\" id=\"ContentPlaceHolder1_btnHylClean\" name=\"HylClean\" role=\"HyperLink\" target=\"_self\">Debt Clean Price - 02/01/2024</a>\n",
      "<span id=\"ContentPlaceHolder1_lblClean\">0.41 KB</span>\n",
      "</li>\n",
      "<li id=\"ContentPlaceHolder1_licomudiff\">\n",
      "<a href=\"https://www.bseindia.com/Download/BhavCopy/Commodity/Csv/BhavCopy_BSE_CO_0_0_0_20240807_F_0000.CSV\" id=\"ContentPlaceHolder1_btnHylcomudiff\" name=\"Hycomudiff\" role=\"HyperLink\" target=\"_self\">Commodity Derivatives (UDiFF) -07/08/2024</a>\n",
      "<span id=\"ContentPlaceHolder1_lblcomudiff\">0.30 KB</span>\n",
      "</li>\n",
      "<li id=\"ContentPlaceHolder1_liEGR\">\n",
      "<a href=\"https://www.bseindia.com/download/BhavCopy/EGR/EGR_BHAVCOPY_011122.CSV\" id=\"ContentPlaceHolder1_btnHylEGR\" name=\"HylEGRComm\" role=\"HyperLink\" target=\"_self\">EGR - 01/11/2022</a>\n",
      "<span id=\"ContentPlaceHolder1_lblEGR\">0.26 KB</span>\n",
      "</li>\n"
     ]
    }
   ],
   "source": [
    "\n",
    "for link in links:\n",
    "    print(link)"
   ]
  },
  {
   "cell_type": "code",
   "execution_count": null,
   "metadata": {},
   "outputs": [],
   "source": [
    "def getLatestBhavCopy():\n",
    "    with open(\"links.json\", \"r\") as json_data:\n",
    "        temp = json.load(json_data)\n",
    "        requests.get(temp['bhav_copy']['url'], headers=temp['headers'])\n",
    "    "
   ]
  }
 ],
 "metadata": {
  "kernelspec": {
   "display_name": "base",
   "language": "python",
   "name": "python3"
  },
  "language_info": {
   "codemirror_mode": {
    "name": "ipython",
    "version": 3
   },
   "file_extension": ".py",
   "mimetype": "text/x-python",
   "name": "python",
   "nbconvert_exporter": "python",
   "pygments_lexer": "ipython3",
   "version": "3.11.5"
  }
 },
 "nbformat": 4,
 "nbformat_minor": 2
}
